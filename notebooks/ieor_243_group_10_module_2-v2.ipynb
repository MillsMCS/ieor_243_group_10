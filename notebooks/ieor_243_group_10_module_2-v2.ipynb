{
 "cells": [
  {
   "cell_type": "markdown",
   "id": "3c9c883b",
   "metadata": {},
   "source": [
    "# IEOR 243 Group 10 Module 2\n",
    "\n",
    "\n",
    "We want to address the following questions through code and our report:\n",
    "\n",
    "#### What is the goal of our models and what are you trying to achieve?\n",
    "\n",
    "Our general goal is to understand how people felt about COVID in 2020 and compare it to how people felt about COVID in 2023. We also want to be more specific than a simple sentiment analysis in which we score sentiment on a -10 to 10 scale (or something comparable). We want to be able to capture the full range of emotions that people convey about COVID. For instance, people may be sad about losing a loved one, scared about getting sick or losing money, angry (or happy) about policy created by legislators, etc. These emotions should not be abstracted into a single number necessarily. \n",
    "\n",
    "#### What models and methodologies have you used?\n",
    "\n",
    "We are in an interesting scenario because our data is *not labeled* meaning we cannot train any supervised learning models to predict sentiment, emotions, etc. We have over 100k rows so manually labeling the data is infeasible. Instead, we introduce three modeling approaches to analyze our problem.\n",
    "\n",
    "1) **K-Means Clustering**: We begin by creating a K-Means clustering algorithm on the `text` column in our data to understand the general trends of communication. \n",
    "\n",
    "    * **K-Means Clusters as Labels**: We then sample tweets from each cluster, cobmine them together, and run inference on a pre-trained summarization model to arrive as cluster descriptions to use with our Zero-Shot models later.\n",
    "\n",
    "\n",
    "2) **Zero-Shot Classification with Hugging Face SOTA**: Hugging Face hosts many open-source, pre-trained models for sentiment analysis and text-classification. We'll apply a few of these models for zero-shot classification on our data to see how it performs. This is difficult to compare to an unsupservised model, but gives us a more useful model. \n",
    "\n",
    "\n",
    "3) **Unsupervised Text Classification through Lbl2Vec**: Lbl2Vec is a rather new algorithm published in 2021 (paper: https://www.scitepress.org/Link.aspx?doi=10.5220/0010710300003058) which automatically generates jointly embedded label, document and word vectors and returns documents of categories modeled by manually predefined keywords. The key idea of the algorithm is that many semantically similar keywords can represent a category. We'll compare this to the zero-shot learning from Hugging Face, along with our K-Means clustering to see how it performsn.\n",
    "\n",
    "#### How have you selected any tuning parameters for your models (a.k.a hyperparameters)?\n",
    "\n",
    "While most supervised learning algorithms benefit greatly from using a standard K-Fold cross-validation implementation using Scikit-Learn's `GridSearchCV` object, for K-Means clustering, it's quite common to use the \"elbow method.\" Instead of directly minimizing some evaluation metric like SSE or Inertia, we instead will search over a space of reasonable values of `n_clusters` and plot the corresponding silhouette scores. We will select a quasi-optimal value of `n_clusters` by selecting the one on the \"elbow\" of the plot.\n",
    "\n",
    "#### How well does your model perform and how have you measured that?\n",
    "\n",
    "\n",
    "#### Are there any significant limitations to your modeling methods (i.e. Where, when, how, and why can your model fail? )\n"
   ]
  },
  {
   "cell_type": "code",
   "execution_count": 1,
   "id": "e25b0fe4",
   "metadata": {
    "code_folding": [
     0
    ]
   },
   "outputs": [],
   "source": [
    "# General Imports \n",
    "import pandas as pd\n",
    "import numpy as np\n",
    "import re\n",
    "import random\n",
    "import matplotlib.pyplot as plt\n",
    "from typing import List\n",
    "import time\n",
    "\n",
    "import warnings\n",
    "warnings.filterwarnings('ignore')"
   ]
  },
  {
   "cell_type": "code",
   "execution_count": 2,
   "id": "1a5429a2",
   "metadata": {
    "code_folding": []
   },
   "outputs": [],
   "source": [
    "# Modeling Imports\n",
    "from sklearn.model_selection import train_test_split, GridSearchCV\n",
    "from sklearn.feature_extraction.text import TfidfVectorizer\n",
    "from sklearn.cluster import KMeans\n",
    "from sklearn.metrics import silhouette_score\n",
    "\n",
    "from transformers import AutoTokenizer, AutoModelForSeq2SeqLM, pipeline\n",
    "from sentence_transformers import SentenceTransformer"
   ]
  },
  {
   "cell_type": "markdown",
   "id": "744faf40",
   "metadata": {},
   "source": [
    "## Preprocessing\n",
    "\n",
    "First, we load in the uncleaned data and apply the data cleaning steps from Module 1. Please refer to the `ieor_243_group_10_module_1.ipynb` notebook for an in-depth explanation of this process."
   ]
  },
  {
   "cell_type": "code",
   "execution_count": 3,
   "id": "562879f1",
   "metadata": {
    "code_folding": [
     0
    ]
   },
   "outputs": [],
   "source": [
    "# Load data \n",
    "parent_path = \"../data\"\n",
    "df20 = pd.read_csv(f\"{parent_path}/covid2020.csv\")\n",
    "df23 = pd.read_csv(f\"{parent_path}/covid2023.csv\")"
   ]
  },
  {
   "cell_type": "code",
   "execution_count": 4,
   "id": "85ceaeeb",
   "metadata": {
    "code_folding": [
     1,
     39,
     62
    ]
   },
   "outputs": [],
   "source": [
    "# Preprocessing Helper Functions\n",
    "def preprocess_text(text: str) -> str:\n",
    "    \n",
    "    \"\"\"\n",
    "    Processes a tweet string by removing any weird string characters/formattings\n",
    "    Args: \n",
    "        - text (str): the text to clean\n",
    "    Returns: \n",
    "        - clean_text (str): the cleaned text string\n",
    "    \"\"\"\n",
    "    # convert to lowercase\n",
    "    text = text.lower()\n",
    "    \n",
    "    # remove URLs\n",
    "    text = re.sub(r\"http\\S+\", \"\", text)\n",
    "\n",
    "    # Removing Emojis\n",
    "    text = re.sub(r'[^\\x00-\\x7F]+', '', text)\n",
    "    \n",
    "    # Removing emoticons\n",
    "    text = re.sub(r':\\w+:', '', text)\n",
    "    text = re.sub(r'[^\\x00-\\x7F]+', '', text)\n",
    "    \n",
    "    # Removing Contractions\n",
    "    text = re.sub(r\"can\\'t\", \"can not\", text)\n",
    "    text = re.sub(r\"won\\'t\", \"will not\", text)\n",
    "    text = re.sub(r\"n\\'t\", \" not\", text)\n",
    "    text = re.sub(r\"\\'re\", \" are\", text)\n",
    "    text = re.sub(r\"\\'s\", \" is\", text)\n",
    "    text = re.sub(r\"\\'d\", \" would\", text)\n",
    "    text = re.sub(r\"\\'ll\", \" will\", text)\n",
    "    text = re.sub(r\"\\'t\", \" not\", text)\n",
    "    text = re.sub(r\"\\'ve\", \" have\", text)\n",
    "    text = re.sub(r\"\\'m\", \" am\", text)\n",
    "    \n",
    "    clean_text = text\n",
    "    \n",
    "    return clean_text\n",
    "\n",
    "def preprocess_nulls(df: pd.DataFrame) -> pd.DataFrame: \n",
    "    \n",
    "    \"\"\"\n",
    "    Removes nulls and 0 counts from a dataframe\n",
    "    Args: \n",
    "        - df (pd.DataFrame): the dataframe to remove nulls from\n",
    "    Returns: \n",
    "        - clean_df (str): the cleaned df\n",
    "    \"\"\"\n",
    "    \n",
    "    # Drop duplicate rows \n",
    "    df = df.drop_duplicates(subset = \"text\")\n",
    "    \n",
    "    # Drop rows with no followers \n",
    "    df = df[df['user_followers'] > 0]\n",
    "    \n",
    "    # Drop nulls and reset index \n",
    "    df = df.dropna().reset_index(drop = True)\n",
    "    \n",
    "    clean_df = df\n",
    "    \n",
    "    return clean_df\n",
    "\n",
    "def preprocess_df(df: pd.DataFrame) -> pd.DataFrame:\n",
    "    \n",
    "    \"\"\"\n",
    "    Main processing function on the dataframe\n",
    "    Args: \n",
    "        - df (pd.DataFrame): df of tweets to process\n",
    "    Returns: \n",
    "        - preprocessed_df (pd.DataFrame): the processed df\n",
    "    \"\"\"\n",
    "    \n",
    "    # Preprocess null and missing values \n",
    "    df = preprocess_nulls(df)\n",
    "    \n",
    "    # Preprocess text \n",
    "    df['processed_text'] = df['text'].apply(preprocess_text)            \n",
    "    \n",
    "    return df"
   ]
  },
  {
   "cell_type": "code",
   "execution_count": 5,
   "id": "e5cc75c0",
   "metadata": {
    "code_folding": []
   },
   "outputs": [],
   "source": [
    "# Process the data and extract text columns\n",
    "df20_processed = preprocess_df(df20)\n",
    "df23_processed = preprocess_df(df23)"
   ]
  },
  {
   "cell_type": "markdown",
   "id": "31985f75",
   "metadata": {},
   "source": [
    "## Construct Word Embeddings\n",
    "\n",
    "Now we can load in a Word2Vec style word-embedding model to get better vector representations than can be found using TFIDF."
   ]
  },
  {
   "cell_type": "code",
   "execution_count": 6,
   "id": "1f8e1ab4",
   "metadata": {},
   "outputs": [],
   "source": [
    "# Sample from DF\n",
    "df20_sampled = df20_processed.sample(frac = 0.25)\n",
    "df23_sampled = df23_processed.sample(frac = 0.25)\n",
    "\n",
    "X20 = df20_sampled['processed_text'].to_list()\n",
    "X23 = df23_sampled['processed_text'].to_list()"
   ]
  },
  {
   "cell_type": "markdown",
   "id": "d359ada5",
   "metadata": {},
   "source": [
    "Don't run this cell unless you want to wait for a super super long time!"
   ]
  },
  {
   "cell_type": "code",
   "execution_count": 54,
   "id": "7aa26721",
   "metadata": {},
   "outputs": [],
   "source": [
    "# # Get word vector embeddings \n",
    "# embedding_model = SentenceTransformer('sentence-transformers/all-mpnet-base-v2')\n",
    "# X20_embeddings = embedding_model.encode(X20)"
   ]
  },
  {
   "cell_type": "markdown",
   "id": "64562a9c",
   "metadata": {},
   "source": [
    "## Step #1: K-Means Clustering (Unsupervised)\n",
    "\n",
    "We search over a space `n_cluster` values from 2 to 9 and use the elbow method to select the value with the highest `silhouette_score` as our final model. We then plot the results below."
   ]
  },
  {
   "cell_type": "code",
   "execution_count": 55,
   "id": "58cd642c",
   "metadata": {
    "code_folding": [
     0
    ],
    "scrolled": true
   },
   "outputs": [],
   "source": [
    "def train_kmeans(X, n_cluster_values: List[int], verbose: bool = True) -> dict: \n",
    "    \n",
    "    \"\"\"\n",
    "    Function to train KMeans and run a parameter sweep over n_cluster_values \n",
    "    Params: \n",
    "        - X: data to train on\n",
    "        - n_cluster_values: list of integers of the number of clusters to try\n",
    "        - random_seed: random seed to pass to KMeans estimator \n",
    "        v- erbose: bool\n",
    "    Returns: \n",
    "        - scores: dictionary of silhouette scores for each n_clusters value\n",
    "    \"\"\"\n",
    "    \n",
    "    # Search over a search space of n_cluster values \n",
    "    scores = {}\n",
    "    tic = time.time()\n",
    "    for n_clusters in n_cluster_values: \n",
    "\n",
    "        # Fit a model \n",
    "        kmeans = KMeans(n_clusters = n_clusters, random_state = 1)\n",
    "        kmeans.fit(X)\n",
    "\n",
    "\n",
    "        # Compute the silhouette score\n",
    "        score = silhouette_score(X = X, \n",
    "                                 labels = kmeans.labels_, \n",
    "                                 metric = 'euclidean'\n",
    "                                )\n",
    "        scores.update({n_clusters: score})\n",
    "\n",
    "        # Logging \n",
    "        if verbose: \n",
    "            print(f\"n_clusters: {n_clusters} -- {time.time()-tic:2f} seconds\")\n",
    "            \n",
    "    return scores"
   ]
  },
  {
   "cell_type": "code",
   "execution_count": 80,
   "id": "37345727",
   "metadata": {},
   "outputs": [
    {
     "name": "stdout",
     "output_type": "stream",
     "text": [
      "n_clusters: 2 -- 70.609305 seconds\n",
      "n_clusters: 3 -- 132.596795 seconds\n",
      "n_clusters: 4 -- 212.960151 seconds\n",
      "n_clusters: 5 -- 325.201891 seconds\n",
      "n_clusters: 6 -- 400.130752 seconds\n",
      "n_clusters: 7 -- 469.824356 seconds\n",
      "n_clusters: 8 -- 536.437006 seconds\n",
      "n_clusters: 9 -- 604.055185 seconds\n",
      "n_clusters: 10 -- 669.188954 seconds\n",
      "n_clusters: 11 -- 732.108650 seconds\n",
      "n_clusters: 12 -- 795.288000 seconds\n",
      "n_clusters: 13 -- 867.792250 seconds\n",
      "n_clusters: 14 -- 938.302706 seconds\n",
      "n_clusters: 15 -- 1023.902612 seconds\n"
     ]
    }
   ],
   "source": [
    "# Train the KMeans Estimator \n",
    "scores = train_kmeans(X = X20_embeddings, \n",
    "                      n_cluster_values = list(range(2, 16)), \n",
    "                      verbose = True)"
   ]
  },
  {
   "cell_type": "code",
   "execution_count": 81,
   "id": "41ab49e8",
   "metadata": {
    "code_folding": [
     0
    ]
   },
   "outputs": [
    {
     "name": "stdout",
     "output_type": "stream",
     "text": [
      "The history saving thread hit an unexpected error (OperationalError('unable to open database file')).History will not be written to the database.\n"
     ]
    },
    {
     "data": {
      "image/png": "[encoded data removed]",
      "text/plain": [
       "<Figure size 800x500 with 1 Axes>"
      ]
     },
     "metadata": {},
     "output_type": "display_data"
    }
   ],
   "source": [
    "# Plot the Silhouette score results\n",
    "fig, ax = plt.subplots(figsize = (8,5))\n",
    "\n",
    "n_cluster_vals = list(scores.keys())\n",
    "n_cluster_scores = list(scores.values())\n",
    "\n",
    "plt.plot(n_cluster_vals, n_cluster_scores)\n",
    "\n",
    "plt.title(\"Silhouette Score vs Number of Clusters\", pad = 15, fontweight = 'semibold', fontsize = 14)\n",
    "plt.xlabel(\"Number of Clusters\", fontsize = 13)\n",
    "plt.ylabel(\"Silhouette Score\", fontsize = 13)\n",
    "\n",
    "plt.xticks(n_cluster_vals, n_cluster_vals)\n",
    "plt.show()"
   ]
  },
  {
   "cell_type": "code",
   "execution_count": 8,
   "id": "e54d76f2",
   "metadata": {},
   "outputs": [],
   "source": [
    "X20_embeddings = pd.read_csv('../data/X20_embeddings.csv')"
   ]
  },
  {
   "cell_type": "code",
   "execution_count": 10,
   "id": "4acb1a16",
   "metadata": {},
   "outputs": [
    {
     "data": {
      "text/html": [
       "<style>#sk-container-id-1 {color: black;background-color: white;}#sk-container-id-1 pre{padding: 0;}#sk-container-id-1 div.sk-toggleable {background-color: white;}#sk-container-id-1 label.sk-toggleable__label {cursor: pointer;display: block;width: 100%;margin-bottom: 0;padding: 0.3em;box-sizing: border-box;text-align: center;}#sk-container-id-1 label.sk-toggleable__label-arrow:before {content: \"▸\";float: left;margin-right: 0.25em;color: #696969;}#sk-container-id-1 label.sk-toggleable__label-arrow:hover:before {color: black;}#sk-container-id-1 div.sk-estimator:hover label.sk-toggleable__label-arrow:before {color: black;}#sk-container-id-1 div.sk-toggleable__content {max-height: 0;max-width: 0;overflow: hidden;text-align: left;background-color: #f0f8ff;}#sk-container-id-1 div.sk-toggleable__content pre {margin: 0.2em;color: black;border-radius: 0.25em;background-color: #f0f8ff;}#sk-container-id-1 input.sk-toggleable__control:checked~div.sk-toggleable__content {max-height: 200px;max-width: 100%;overflow: auto;}#sk-container-id-1 input.sk-toggleable__control:checked~label.sk-toggleable__label-arrow:before {content: \"▾\";}#sk-container-id-1 div.sk-estimator input.sk-toggleable__control:checked~label.sk-toggleable__label {background-color: #d4ebff;}#sk-container-id-1 div.sk-label input.sk-toggleable__control:checked~label.sk-toggleable__label {background-color: #d4ebff;}#sk-container-id-1 input.sk-hidden--visually {border: 0;clip: rect(1px 1px 1px 1px);clip: rect(1px, 1px, 1px, 1px);height: 1px;margin: -1px;overflow: hidden;padding: 0;position: absolute;width: 1px;}#sk-container-id-1 div.sk-estimator {font-family: monospace;background-color: #f0f8ff;border: 1px dotted black;border-radius: 0.25em;box-sizing: border-box;margin-bottom: 0.5em;}#sk-container-id-1 div.sk-estimator:hover {background-color: #d4ebff;}#sk-container-id-1 div.sk-parallel-item::after {content: \"\";width: 100%;border-bottom: 1px solid gray;flex-grow: 1;}#sk-container-id-1 div.sk-label:hover label.sk-toggleable__label {background-color: #d4ebff;}#sk-container-id-1 div.sk-serial::before {content: \"\";position: absolute;border-left: 1px solid gray;box-sizing: border-box;top: 0;bottom: 0;left: 50%;z-index: 0;}#sk-container-id-1 div.sk-serial {display: flex;flex-direction: column;align-items: center;background-color: white;padding-right: 0.2em;padding-left: 0.2em;position: relative;}#sk-container-id-1 div.sk-item {position: relative;z-index: 1;}#sk-container-id-1 div.sk-parallel {display: flex;align-items: stretch;justify-content: center;background-color: white;position: relative;}#sk-container-id-1 div.sk-item::before, #sk-container-id-1 div.sk-parallel-item::before {content: \"\";position: absolute;border-left: 1px solid gray;box-sizing: border-box;top: 0;bottom: 0;left: 50%;z-index: -1;}#sk-container-id-1 div.sk-parallel-item {display: flex;flex-direction: column;z-index: 1;position: relative;background-color: white;}#sk-container-id-1 div.sk-parallel-item:first-child::after {align-self: flex-end;width: 50%;}#sk-container-id-1 div.sk-parallel-item:last-child::after {align-self: flex-start;width: 50%;}#sk-container-id-1 div.sk-parallel-item:only-child::after {width: 0;}#sk-container-id-1 div.sk-dashed-wrapped {border: 1px dashed gray;margin: 0 0.4em 0.5em 0.4em;box-sizing: border-box;padding-bottom: 0.4em;background-color: white;}#sk-container-id-1 div.sk-label label {font-family: monospace;font-weight: bold;display: inline-block;line-height: 1.2em;}#sk-container-id-1 div.sk-label-container {text-align: center;}#sk-container-id-1 div.sk-container {/* jupyter's `normalize.less` sets `[hidden] { display: none; }` but bootstrap.min.css set `[hidden] { display: none !important; }` so we also need the `!important` here to be able to override the default hidden behavior on the sphinx rendered scikit-learn.org. See: https://github.com/scikit-learn/scikit-learn/issues/21755 */display: inline-block !important;position: relative;}#sk-container-id-1 div.sk-text-repr-fallback {display: none;}</style><div id=\"sk-container-id-1\" class=\"sk-top-container\"><div class=\"sk-text-repr-fallback\"><pre>KMeans(max_iter=5000, random_state=1)</pre><b>In a Jupyter environment, please rerun this cell to show the HTML representation or trust the notebook. <br />On GitHub, the HTML representation is unable to render, please try loading this page with nbviewer.org.</b></div><div class=\"sk-container\" hidden><div class=\"sk-item\"><div class=\"sk-estimator sk-toggleable\"><input class=\"sk-toggleable__control sk-hidden--visually\" id=\"sk-estimator-id-1\" type=\"checkbox\" checked><label for=\"sk-estimator-id-1\" class=\"sk-toggleable__label sk-toggleable__label-arrow\">KMeans</label><div class=\"sk-toggleable__content\"><pre>KMeans(max_iter=5000, random_state=1)</pre></div></div></div></div></div>"
      ],
      "text/plain": [
       "KMeans(max_iter=5000, random_state=1)"
      ]
     },
     "execution_count": 10,
     "metadata": {},
     "output_type": "execute_result"
    }
   ],
   "source": [
    "# Extract the best model and retrain it\n",
    "# optimal_n_clusters = list(scores.keys())[np.argmax(list(scores.values()))]\n",
    "optimal_n_clusters = 8\n",
    "kmeans = KMeans(n_clusters = optimal_n_clusters, random_state = 1, max_iter = 5_000)\n",
    "kmeans.fit(X20_embeddings)"
   ]
  },
  {
   "cell_type": "code",
   "execution_count": 12,
   "id": "fa234b55",
   "metadata": {},
   "outputs": [
    {
     "data": {
      "text/plain": [
       "0    0.141028\n",
       "1    0.100057\n",
       "2    0.041903\n",
       "3    0.153955\n",
       "4    0.100421\n",
       "5    0.106298\n",
       "6    0.155130\n",
       "7    0.201208\n",
       "Name: cluster, dtype: float64"
      ]
     },
     "execution_count": 12,
     "metadata": {},
     "output_type": "execute_result"
    }
   ],
   "source": [
    "# Add predictions to df and check the cluster distribution\n",
    "df20_sampled['cluster'] = kmeans.predict(X20_embeddings)\n",
    "df20_sampled['cluster'].value_counts(normalize = True).sort_index()"
   ]
  },
  {
   "cell_type": "code",
   "execution_count": 96,
   "id": "8d25d21d",
   "metadata": {},
   "outputs": [
    {
     "data": {
      "text/plain": [
       "7    0.201208\n",
       "6    0.155130\n",
       "3    0.153955\n",
       "0    0.141028\n",
       "5    0.106298\n",
       "4    0.100421\n",
       "1    0.100057\n",
       "2    0.041903\n",
       "Name: cluster, dtype: float64"
      ]
     },
     "execution_count": 96,
     "metadata": {},
     "output_type": "execute_result"
    }
   ],
   "source": [
    "# Add predictions to df and check the cluster distribution\n",
    "df20_sampled['cluster'] = kmeans.predict(X20_embeddings)\n",
    "df20_sampled['cluster'].value_counts(normalize = True)"
   ]
  },
  {
   "cell_type": "markdown",
   "id": "52090ca7",
   "metadata": {},
   "source": [
    "## Step #2: Use Pretrained Transformer Models to Generate Class Keyword Tags\n",
    "\n",
    "Now that we have a well trained KMeans clustering algorithm, we want to summarize (label) these clusters. One common approach is to look manually and determine what each cluster entails, but we are more principled than that. \n",
    "\n",
    "Instead, we'll use the ChatGPT API to generate a list of keyword tags for each cluster. Note, we could use an open-source model, but they often have high latency and a smaller allotted input size than ChatGPT. "
   ]
  },
  {
   "cell_type": "code",
   "execution_count": 105,
   "id": "0eb3c50c",
   "metadata": {},
   "outputs": [],
   "source": [
    "def get_cluster_tweets(cluster: int, n_tweets: int = 100): \n",
    "    \n",
    "    t1 = df20_sampled[df20_sampled['cluster'] == cluster]['processed_text'].sample(n_tweets).to_list()\n",
    "    \n",
    "    for idx, tweet in enumerate(t1):\n",
    "        tweet = tweet.replace(\"\\n\", \"\")\n",
    "        print(f\"({idx+1}) {tweet}\")"
   ]
  },
  {
   "cell_type": "markdown",
   "id": "a4fd1cd0",
   "metadata": {},
   "source": [
    "**Prompt**: I am going to give you a list of 100 tweets. Your job is to come up with 3-5 keyword tags that apply to all of the tweets. You should focus on describing the general trend of the tweets. \n",
    "\n",
    "Many of the tweets contain information about COVID-19. You should not include \"covid-19,\" \"covid,\" \"pandemic,\" or \"coronavirus\" as keywords, okay?\n",
    "\n",
    "Here are the tweets: \n",
    "\n",
    "\n",
    "{INSERT TWEETS}"
   ]
  },
  {
   "cell_type": "code",
   "execution_count": 27,
   "id": "9e78ec77",
   "metadata": {},
   "outputs": [],
   "source": [
    "labels = {\n",
    "    1: ['social issues', 'personal development', 'business and economics', 'community building'],\n",
    "    2: ['india', 'updates', 'testing', 'fatalities', 'recoveries', 'healthcare'],\n",
    "    3: ['face masks', 'safety', 'protection', 'public health', 'prevention'],\n",
    "    4: ['social media', 'resilience', 'community support', 'online events'],\n",
    "    5: ['global', 'cases', 'deaths', 'statistics'],\n",
    "    6: ['politics', 'government response', 'public health', 'conspiracy', 'human rights'],\n",
    "    7: ['health', 'information','vacccine', 'public awareness'],\n",
    "    8: ['layoffs', 'misinofrmation', 'mental health', 'lockdown', 'access', 'financial impact', 'political response', 'education']\n",
    "}"
   ]
  },
  {
   "cell_type": "markdown",
   "id": "1bc80e04",
   "metadata": {},
   "source": [
    "## Step #3: Zero-Shot Classification with Hugging Face \n",
    "\n",
    "https://huggingface.co/facebook/bart-large-mnli"
   ]
  },
  {
   "cell_type": "code",
   "execution_count": 28,
   "id": "9825a8fa",
   "metadata": {},
   "outputs": [],
   "source": [
    "# Combine all labels\n",
    "list_of_labels = [item for sublist in list(labels.values()) for item in sublist]\n",
    "list_of_labels = list(set(list_of_labels))"
   ]
  },
  {
   "cell_type": "code",
   "execution_count": 29,
   "id": "0a6b0c71",
   "metadata": {},
   "outputs": [],
   "source": [
    "# Load in model \n",
    "classifier = pipeline(\"zero-shot-classification\", model=\"facebook/bart-large-mnli\")"
   ]
  },
  {
   "cell_type": "code",
   "execution_count": null,
   "id": "d872e489",
   "metadata": {},
   "outputs": [],
   "source": [
    "# Run predictions on samples\n",
    "samples = df20_sampled['processed_text'].sample(1_000).to_list()\n",
    "preds = classifier(samples, list_of_labels)\n",
    "pred_labels = [pred['labels'][0] for pred in preds]"
   ]
  },
  {
   "cell_type": "code",
   "execution_count": 165,
   "id": "8be574de",
   "metadata": {},
   "outputs": [
    {
     "data": {
      "text/plain": [
       "information            0.22\n",
       "deaths                 0.12\n",
       "updates                0.10\n",
       "testing                0.08\n",
       "cases                  0.05\n",
       "vacccine               0.05\n",
       "recoveries             0.05\n",
       "financial impact       0.03\n",
       "lockdown               0.03\n",
       "misinofrmation         0.03\n",
       "india                  0.02\n",
       "resilience             0.02\n",
       "prevention             0.02\n",
       "community support      0.02\n",
       "global                 0.02\n",
       "statistics             0.01\n",
       "face masks             0.01\n",
       "safety                 0.01\n",
       "social media           0.01\n",
       "politics               0.01\n",
       "conspiracy             0.01\n",
       "public awareness       0.01\n",
       "political response     0.01\n",
       "government response    0.01\n",
       "public health          0.01\n",
       "online events          0.01\n",
       "human rights           0.01\n",
       "protection             0.01\n",
       "access                 0.01\n",
       "dtype: float64"
      ]
     },
     "execution_count": 165,
     "metadata": {},
     "output_type": "execute_result"
    }
   ],
   "source": [
    "pd.Series(pred_labels).value_counts(normalize = True)"
   ]
  },
  {
   "cell_type": "code",
   "execution_count": null,
   "id": "a6a05077",
   "metadata": {},
   "outputs": [],
   "source": []
  }
 ],
 "metadata": {
  "kernelspec": {
   "display_name": "Python 3 (ipykernel)",
   "language": "python",
   "name": "python3"
  },
  "language_info": {
   "codemirror_mode": {
    "name": "ipython",
    "version": 3
   },
   "file_extension": ".py",
   "mimetype": "text/x-python",
   "name": "python",
   "nbconvert_exporter": "python",
   "pygments_lexer": "ipython3",
   "version": "3.10.9"
  }
 },
 "nbformat": 4,
 "nbformat_minor": 5
}
